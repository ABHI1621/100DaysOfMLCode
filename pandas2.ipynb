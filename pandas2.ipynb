{
 "cells": [
  {
   "cell_type": "code",
   "execution_count": 1,
   "metadata": {},
   "outputs": [
    {
     "name": "stdout",
     "output_type": "stream",
     "text": [
      "Empty DataFrame\n",
      "Columns: []\n",
      "Index: []\n"
     ]
    }
   ],
   "source": [
    "#Pmadas has Series, Dataframe and Panel\n",
    "import numpy as np\n",
    "import pandas as pd\n",
    "\n",
    "#Empty Dataframe\n",
    "df=pd.DataFrame()\n",
    "print(df)"
   ]
  },
  {
   "cell_type": "code",
   "execution_count": 2,
   "metadata": {},
   "outputs": [
    {
     "name": "stdout",
     "output_type": "stream",
     "text": [
      "    0\n",
      "0   1\n",
      "1   4\n",
      "2   9\n",
      "3  16\n",
      "4  25\n",
      "5  36\n",
      "\n",
      " The second DataFrame is \n",
      "        number  square  cube\n",
      "one         1       1     1\n",
      "two         2       4     8\n",
      "three       3       9    27\n",
      "four        4      16    64\n",
      "five        5      25   125\n",
      "six         6      36   216\n"
     ]
    }
   ],
   "source": [
    "#DataFrame from List\n",
    "a=[1,4,9,16,25,36]\n",
    "df=pd.DataFrame(a)\n",
    "print(df)\n",
    "\n",
    "b=[[1,1,1],[2,4,8],[3,9,27],[4,16,64],[5,25,125],[6,36,216]]\n",
    "df=pd.DataFrame(b,columns=[\"number\",\"square\",\"cube\"],index=[\"one\",\"two\",\"three\",\"four\",\"five\",\"six\"])\n",
    "print(\"\\n The second DataFrame is \\n\",df)"
   ]
  },
  {
   "cell_type": "code",
   "execution_count": 3,
   "metadata": {},
   "outputs": [
    {
     "name": "stdout",
     "output_type": "stream",
     "text": [
      "   Age      Name\n",
      "0   21    Ashish\n",
      "1   22  Abhishek\n",
      "2   23     Mohit\n",
      "3   18     Aryan\n"
     ]
    }
   ],
   "source": [
    "#DataFrame from dict\n",
    "data= {'Name':['Ashish', 'Abhishek', 'Mohit', 'Aryan'],'Age':[21,22,23,18]}\n",
    "df=pd.DataFrame(data)\n",
    "print(df)"
   ]
  },
  {
   "cell_type": "code",
   "execution_count": 4,
   "metadata": {},
   "outputs": [
    {
     "name": "stdout",
     "output_type": "stream",
     "text": [
      "   Age      Name sex\n",
      "0   21    Ashish   M\n",
      "1   22  Abhishek   M\n",
      "2   23     Mohit   M\n",
      "3   18     Aryan   M\n",
      "\n",
      "After Deletion\n",
      "    Age      Name\n",
      "0   21    Ashish\n",
      "1   22  Abhishek\n",
      "2   23     Mohit\n",
      "3   18     Aryan\n"
     ]
    }
   ],
   "source": [
    "#Columns Addition and Deltion\n",
    "df[\"sex\"]=[\"M\",\"M\",\"M\",\"M\"]\n",
    "print(df)\n",
    "del df[\"sex\"]\n",
    "print(\"\\nAfter Deletion\\n\", df)"
   ]
  },
  {
   "cell_type": "code",
   "execution_count": 5,
   "metadata": {},
   "outputs": [
    {
     "name": "stdout",
     "output_type": "stream",
     "text": [
      "<pandas.core.indexing._LocIndexer object at 0x0000014609ABC1D0>\n",
      "   Age    Name\n",
      "0   21  Ashish\n",
      "\n",
      "     0           1\n",
      "0  45  Hemant Jha\n",
      "\n",
      "After appending an row\n",
      "    Age      Name\n",
      "0   21    Ashish\n",
      "1   22  Abhishek\n",
      "2   23     Mohit\n",
      "3   18     Aryan\n"
     ]
    }
   ],
   "source": [
    "#Row Selction, Addition, Deleyion\n",
    "print(df.loc(0))\n",
    "print(df[0:1])\n",
    "df2=pd.DataFrame([45,\"Hemant Jha\"])\n",
    "df2=df2.T\n",
    "print(\"\\n\",df2)\n",
    "df.append(df2)\n",
    "print(\"\\nAfter appending an row\\n\",df)"
   ]
  },
  {
   "cell_type": "code",
   "execution_count": 6,
   "metadata": {
    "scrolled": true
   },
   "outputs": [
    {
     "name": "stdout",
     "output_type": "stream",
     "text": [
      "             Age\n",
      "count   4.000000\n",
      "mean   21.000000\n",
      "std     2.160247\n",
      "min    18.000000\n",
      "25%    20.250000\n",
      "50%    21.500000\n",
      "75%    22.250000\n",
      "max    23.000000\n",
      "  Age                      Name\n",
      "0  21                    Ashish\n",
      "1  43            AshishAbhishek\n",
      "2  66       AshishAbhishekMohit\n",
      "3  84  AshishAbhishekMohitAryan\n",
      "Age           18\n",
      "Name    Abhishek\n",
      "dtype: object\n"
     ]
    }
   ],
   "source": [
    "#Descriptive Statistics\n",
    "print(df.describe())\n",
    "print(df.cumsum())\n",
    "#print(df.cumprod())\n",
    "print(df.min())"
   ]
  },
  {
   "cell_type": "code",
   "execution_count": 7,
   "metadata": {},
   "outputs": [
    {
     "name": "stdout",
     "output_type": "stream",
     "text": [
      "      a       b    c          d       e\n",
      "0  S.No    Name  Age       City  Salary\n",
      "1     1     Tom   28    Toronto   20000\n",
      "2     2     Lee   32   HongKong    3000\n",
      "3     3  Steven   43   Bay Area    8300\n",
      "4     4     Ram   38  Hyderabad    3900\n",
      "\n",
      " The descriptive statistics are\n",
      "            a    b   c          d       e\n",
      "count      5    5   5          5       5\n",
      "unique     5    5   5          5       5\n",
      "top     S.No  Lee  38  Hyderabad  Salary\n",
      "freq       1    1   1          1       1\n"
     ]
    }
   ],
   "source": [
    "#IO\n",
    "df=pd.read_csv(\"ashish.csv\",sep=\",\", names=['a', 'b', 'c','d','e'])\n",
    "print(df)\n",
    "print(\"\\n The descriptive statistics are\\n\",df.describe())"
   ]
  },
  {
   "cell_type": "code",
   "execution_count": 8,
   "metadata": {},
   "outputs": [
    {
     "name": "stdout",
     "output_type": "stream",
     "text": [
      "       col1      col2      col3\n",
      "0  0.385473 -0.599817  0.026823\n",
      "1 -0.005852 -0.660138 -1.440054\n",
      "2  1.798135 -0.177321 -1.494130\n",
      "3  0.407015 -0.013304  1.273826\n",
      "4  0.190856  0.393315 -1.334822\n",
      "col1    0.639246\n",
      "col2    0.389440\n",
      "col3    1.090784\n",
      "dtype: float64\n"
     ]
    }
   ],
   "source": [
    "import pandas as pd\n",
    "import numpy as np\n",
    "\n",
    "def adder(ele1,ele2):\n",
    "   return ele1+ele2\n",
    "\n",
    "df = pd.DataFrame(np.random.randn(5,3),columns=['col1','col2','col3'])\n",
    "df.pipe(adder,2)\n",
    "print(df)\n",
    "print (df.apply(np.std))\n"
   ]
  },
  {
   "cell_type": "code",
   "execution_count": null,
   "metadata": {
    "collapsed": true
   },
   "outputs": [],
   "source": []
  }
 ],
 "metadata": {
  "kernelspec": {
   "display_name": "Python 3",
   "language": "python",
   "name": "python3"
  },
  "language_info": {
   "codemirror_mode": {
    "name": "ipython",
    "version": 3
   },
   "file_extension": ".py",
   "mimetype": "text/x-python",
   "name": "python",
   "nbconvert_exporter": "python",
   "pygments_lexer": "ipython3",
   "version": "3.6.1"
  }
 },
 "nbformat": 4,
 "nbformat_minor": 2
}
