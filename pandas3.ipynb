{
 "cells": [
  {
   "cell_type": "code",
   "execution_count": 1,
   "metadata": {},
   "outputs": [
    {
     "name": "stdout",
     "output_type": "stream",
     "text": [
      "            A       C           D     x         y\n",
      "0  2016-01-01  Medium  149.898675   0.0  0.122331\n",
      "1  2016-01-02     Low   69.317477   1.0  0.969527\n",
      "2  2016-01-03     Low   38.824213   2.0  0.135952\n",
      "3  2016-01-04     Low  129.655357   3.0  0.164853\n",
      "4  2016-01-05  Medium  -22.544974   4.0  0.087956\n",
      "5  2016-01-06     Low    2.897512   5.0  0.170847\n",
      "6  2016-01-07    High  160.606489   6.0  0.538731\n",
      "7  2016-01-08     Low  119.948456   7.0  0.303503\n",
      "8  2016-01-09  Medium   22.711959   8.0  0.560704\n",
      "9  2016-01-10     Low  211.646688   9.0  0.746013\n",
      "10 2016-01-11    High  102.161169  10.0  0.925401\n",
      "11 2016-01-12  Medium  246.724010  11.0  0.304136\n",
      "12 2016-01-13    High   16.174147  12.0  0.440482\n",
      "13 2016-01-14    High   10.902139  13.0  0.316202\n",
      "14 2016-01-15    High  111.598761  14.0  0.933671\n",
      "15 2016-01-16    High  151.939587  15.0  0.566666\n",
      "16 2016-01-17     Low  154.015261  16.0  0.965107\n",
      "17 2016-01-18    High  326.485944  17.0  0.779990\n",
      "18 2016-01-19     Low   35.195569  18.0  0.844315\n",
      "19 2016-01-20     Low   45.753774  19.0  0.200612\n"
     ]
    }
   ],
   "source": [
    "#Iterations in Python\n",
    "import pandas as pd\n",
    "import numpy as np\n",
    " \n",
    "N=20\n",
    "\n",
    "df = pd.DataFrame({\n",
    "    'A': pd.date_range(start='2016-01-01',periods=N,freq='D'),\n",
    "    'x': np.linspace(0,stop=N-1,num=N),\n",
    "    'y': np.random.rand(N),\n",
    "    'C': np.random.choice(['Low','Medium','High'],N).tolist(),\n",
    "    'D': np.random.normal(100, 100, size=(N)).tolist()\n",
    "    })\n",
    "print(df)"
   ]
  },
  {
   "cell_type": "code",
   "execution_count": 2,
   "metadata": {},
   "outputs": [
    {
     "name": "stdout",
     "output_type": "stream",
     "text": [
      "A\n",
      "C\n",
      "D\n",
      "x\n",
      "y\n"
     ]
    }
   ],
   "source": [
    "#Iterating over columns\n",
    "for col in df:\n",
    "    print(col)"
   ]
  },
  {
   "cell_type": "code",
   "execution_count": 3,
   "metadata": {},
   "outputs": [
    {
     "name": "stdout",
     "output_type": "stream",
     "text": [
      "A 0    2016-01-01\n",
      "1    2016-01-02\n",
      "2    2016-01-03\n",
      "3    2016-01-04\n",
      "4    2016-01-05\n",
      "5    2016-01-06\n",
      "6    2016-01-07\n",
      "7    2016-01-08\n",
      "8    2016-01-09\n",
      "9    2016-01-10\n",
      "10   2016-01-11\n",
      "11   2016-01-12\n",
      "12   2016-01-13\n",
      "13   2016-01-14\n",
      "14   2016-01-15\n",
      "15   2016-01-16\n",
      "16   2016-01-17\n",
      "17   2016-01-18\n",
      "18   2016-01-19\n",
      "19   2016-01-20\n",
      "Name: A, dtype: datetime64[ns]\n",
      "C 0     Medium\n",
      "1        Low\n",
      "2        Low\n",
      "3        Low\n",
      "4     Medium\n",
      "5        Low\n",
      "6       High\n",
      "7        Low\n",
      "8     Medium\n",
      "9        Low\n",
      "10      High\n",
      "11    Medium\n",
      "12      High\n",
      "13      High\n",
      "14      High\n",
      "15      High\n",
      "16       Low\n",
      "17      High\n",
      "18       Low\n",
      "19       Low\n",
      "Name: C, dtype: object\n",
      "D 0     149.898675\n",
      "1      69.317477\n",
      "2      38.824213\n",
      "3     129.655357\n",
      "4     -22.544974\n",
      "5       2.897512\n",
      "6     160.606489\n",
      "7     119.948456\n",
      "8      22.711959\n",
      "9     211.646688\n",
      "10    102.161169\n",
      "11    246.724010\n",
      "12     16.174147\n",
      "13     10.902139\n",
      "14    111.598761\n",
      "15    151.939587\n",
      "16    154.015261\n",
      "17    326.485944\n",
      "18     35.195569\n",
      "19     45.753774\n",
      "Name: D, dtype: float64\n",
      "x 0      0.0\n",
      "1      1.0\n",
      "2      2.0\n",
      "3      3.0\n",
      "4      4.0\n",
      "5      5.0\n",
      "6      6.0\n",
      "7      7.0\n",
      "8      8.0\n",
      "9      9.0\n",
      "10    10.0\n",
      "11    11.0\n",
      "12    12.0\n",
      "13    13.0\n",
      "14    14.0\n",
      "15    15.0\n",
      "16    16.0\n",
      "17    17.0\n",
      "18    18.0\n",
      "19    19.0\n",
      "Name: x, dtype: float64\n",
      "y 0     0.122331\n",
      "1     0.969527\n",
      "2     0.135952\n",
      "3     0.164853\n",
      "4     0.087956\n",
      "5     0.170847\n",
      "6     0.538731\n",
      "7     0.303503\n",
      "8     0.560704\n",
      "9     0.746013\n",
      "10    0.925401\n",
      "11    0.304136\n",
      "12    0.440482\n",
      "13    0.316202\n",
      "14    0.933671\n",
      "15    0.566666\n",
      "16    0.965107\n",
      "17    0.779990\n",
      "18    0.844315\n",
      "19    0.200612\n",
      "Name: y, dtype: float64\n",
      "Pandas(Index=0, A=Timestamp('2016-01-01 00:00:00'), C='Medium', D=149.89867456957654, x=0.0, y=0.12233138552816825)\n",
      "Pandas(Index=1, A=Timestamp('2016-01-02 00:00:00'), C='Low', D=69.317476747872249, x=1.0, y=0.96952690626473037)\n",
      "Pandas(Index=2, A=Timestamp('2016-01-03 00:00:00'), C='Low', D=38.824212823056136, x=2.0, y=0.13595172639268749)\n",
      "Pandas(Index=3, A=Timestamp('2016-01-04 00:00:00'), C='Low', D=129.65535663200401, x=3.0, y=0.16485305985886867)\n",
      "Pandas(Index=4, A=Timestamp('2016-01-05 00:00:00'), C='Medium', D=-22.544973972527345, x=4.0, y=0.087955702259126967)\n",
      "Pandas(Index=5, A=Timestamp('2016-01-06 00:00:00'), C='Low', D=2.89751152507543, x=5.0, y=0.17084671916314575)\n",
      "Pandas(Index=6, A=Timestamp('2016-01-07 00:00:00'), C='High', D=160.60648934459348, x=6.0, y=0.53873089296698573)\n",
      "Pandas(Index=7, A=Timestamp('2016-01-08 00:00:00'), C='Low', D=119.9484564817965, x=7.0, y=0.30350288465851105)\n",
      "Pandas(Index=8, A=Timestamp('2016-01-09 00:00:00'), C='Medium', D=22.711958828402317, x=8.0, y=0.56070354463160355)\n",
      "Pandas(Index=9, A=Timestamp('2016-01-10 00:00:00'), C='Low', D=211.64668838073266, x=9.0, y=0.74601275996831828)\n",
      "Pandas(Index=10, A=Timestamp('2016-01-11 00:00:00'), C='High', D=102.16116943661724, x=10.0, y=0.92540118780006797)\n",
      "Pandas(Index=11, A=Timestamp('2016-01-12 00:00:00'), C='Medium', D=246.72401033268835, x=11.0, y=0.30413629998300828)\n",
      "Pandas(Index=12, A=Timestamp('2016-01-13 00:00:00'), C='High', D=16.174146775601045, x=12.0, y=0.44048160120710722)\n",
      "Pandas(Index=13, A=Timestamp('2016-01-14 00:00:00'), C='High', D=10.902138578820143, x=13.0, y=0.31620153091117897)\n",
      "Pandas(Index=14, A=Timestamp('2016-01-15 00:00:00'), C='High', D=111.59876120749433, x=14.0, y=0.93367097328598714)\n",
      "Pandas(Index=15, A=Timestamp('2016-01-16 00:00:00'), C='High', D=151.93958656859303, x=15.0, y=0.56666648399037112)\n",
      "Pandas(Index=16, A=Timestamp('2016-01-17 00:00:00'), C='Low', D=154.01526081768105, x=16.0, y=0.96510690003215216)\n",
      "Pandas(Index=17, A=Timestamp('2016-01-18 00:00:00'), C='High', D=326.48594375067603, x=17.0, y=0.77999023554088631)\n",
      "Pandas(Index=18, A=Timestamp('2016-01-19 00:00:00'), C='Low', D=35.195568630765763, x=18.0, y=0.84431505377688632)\n",
      "Pandas(Index=19, A=Timestamp('2016-01-20 00:00:00'), C='Low', D=45.753773608369173, x=19.0, y=0.20061181477816414)\n",
      "0 A    2016-01-01 00:00:00\n",
      "C                 Medium\n",
      "D                149.899\n",
      "x                      0\n",
      "y               0.122331\n",
      "Name: 0, dtype: object\n",
      "1 A    2016-01-02 00:00:00\n",
      "C                    Low\n",
      "D                69.3175\n",
      "x                      1\n",
      "y               0.969527\n",
      "Name: 1, dtype: object\n",
      "2 A    2016-01-03 00:00:00\n",
      "C                    Low\n",
      "D                38.8242\n",
      "x                      2\n",
      "y               0.135952\n",
      "Name: 2, dtype: object\n",
      "3 A    2016-01-04 00:00:00\n",
      "C                    Low\n",
      "D                129.655\n",
      "x                      3\n",
      "y               0.164853\n",
      "Name: 3, dtype: object\n",
      "4 A    2016-01-05 00:00:00\n",
      "C                 Medium\n",
      "D                -22.545\n",
      "x                      4\n",
      "y              0.0879557\n",
      "Name: 4, dtype: object\n",
      "5 A    2016-01-06 00:00:00\n",
      "C                    Low\n",
      "D                2.89751\n",
      "x                      5\n",
      "y               0.170847\n",
      "Name: 5, dtype: object\n",
      "6 A    2016-01-07 00:00:00\n",
      "C                   High\n",
      "D                160.606\n",
      "x                      6\n",
      "y               0.538731\n",
      "Name: 6, dtype: object\n",
      "7 A    2016-01-08 00:00:00\n",
      "C                    Low\n",
      "D                119.948\n",
      "x                      7\n",
      "y               0.303503\n",
      "Name: 7, dtype: object\n",
      "8 A    2016-01-09 00:00:00\n",
      "C                 Medium\n",
      "D                 22.712\n",
      "x                      8\n",
      "y               0.560704\n",
      "Name: 8, dtype: object\n",
      "9 A    2016-01-10 00:00:00\n",
      "C                    Low\n",
      "D                211.647\n",
      "x                      9\n",
      "y               0.746013\n",
      "Name: 9, dtype: object\n",
      "10 A    2016-01-11 00:00:00\n",
      "C                   High\n",
      "D                102.161\n",
      "x                     10\n",
      "y               0.925401\n",
      "Name: 10, dtype: object\n",
      "11 A    2016-01-12 00:00:00\n",
      "C                 Medium\n",
      "D                246.724\n",
      "x                     11\n",
      "y               0.304136\n",
      "Name: 11, dtype: object\n",
      "12 A    2016-01-13 00:00:00\n",
      "C                   High\n",
      "D                16.1741\n",
      "x                     12\n",
      "y               0.440482\n",
      "Name: 12, dtype: object\n",
      "13 A    2016-01-14 00:00:00\n",
      "C                   High\n",
      "D                10.9021\n",
      "x                     13\n",
      "y               0.316202\n",
      "Name: 13, dtype: object\n",
      "14 A    2016-01-15 00:00:00\n",
      "C                   High\n",
      "D                111.599\n",
      "x                     14\n",
      "y               0.933671\n",
      "Name: 14, dtype: object\n",
      "15 A    2016-01-16 00:00:00\n",
      "C                   High\n",
      "D                 151.94\n",
      "x                     15\n",
      "y               0.566666\n",
      "Name: 15, dtype: object\n",
      "16 A    2016-01-17 00:00:00\n",
      "C                    Low\n",
      "D                154.015\n",
      "x                     16\n",
      "y               0.965107\n",
      "Name: 16, dtype: object\n",
      "17 A    2016-01-18 00:00:00\n",
      "C                   High\n",
      "D                326.486\n",
      "x                     17\n",
      "y                0.77999\n",
      "Name: 17, dtype: object\n",
      "18 A    2016-01-19 00:00:00\n",
      "C                    Low\n",
      "D                35.1956\n",
      "x                     18\n",
      "y               0.844315\n",
      "Name: 18, dtype: object\n",
      "19 A    2016-01-20 00:00:00\n",
      "C                    Low\n",
      "D                45.7538\n",
      "x                     19\n",
      "y               0.200612\n",
      "Name: 19, dtype: object\n"
     ]
    }
   ],
   "source": [
    "#Iterating over items\n",
    "for k,v in df.iteritems():\n",
    "    print (k,v)\n",
    "for r in df.itertuples():\n",
    "    print(r)\n",
    "for rn, r in df.iterrows():\n",
    "    print(rn,r)"
   ]
  },
  {
   "cell_type": "code",
   "execution_count": 4,
   "metadata": {},
   "outputs": [
    {
     "name": "stdout",
     "output_type": "stream",
     "text": [
      "       col1      col2      col3\n",
      "1  1.065454  0.226975  0.239017\n",
      "4 -0.491218 -1.203370 -0.484174\n",
      "6  1.790684 -0.032194  1.456417\n",
      "2  0.391122 -0.774930  1.586610\n",
      "3  0.722694  0.397113 -2.002805\n",
      "5 -0.972315  0.093907  1.671274\n",
      "9 -0.132341  1.270404  1.583701\n",
      "8 -0.656162 -1.962990  0.931516\n",
      "0 -0.534856 -0.410331  1.068901\n",
      "7 -0.231056  0.179510  0.018037\n"
     ]
    }
   ],
   "source": [
    "#Sorting in Pandas by index(sort_index()) and values(sort_values())\n",
    "\n",
    "udf=pd.DataFrame(np.random.randn(10,3),index=[1,4,6,2,3,5,9,8,0,7],columns=['col3','col2','col1'])\n",
    "sdf=udf.sort_index(axis =1)\n",
    "print(sdf)"
   ]
  },
  {
   "cell_type": "code",
   "execution_count": 5,
   "metadata": {},
   "outputs": [
    {
     "name": "stdout",
     "output_type": "stream",
     "text": [
      "          a         b         c\n",
      "A  1.198116  1.541056 -0.200801\n",
      "B  0.543302 -0.563553 -0.674754\n",
      "C  0.388706 -0.447025  0.211964\n"
     ]
    }
   ],
   "source": [
    "#Indexing and Slicing\n",
    "df=pd.DataFrame(np.random.randn(8,4),columns=['a','b','c','d'], index=list(\"ABCDEFGH\"))\n",
    "print(df.loc['A':'C','a':'c'])"
   ]
  },
  {
   "cell_type": "code",
   "execution_count": 6,
   "metadata": {},
   "outputs": [
    {
     "name": "stdout",
     "output_type": "stream",
     "text": [
      "0          NaN\n",
      "1     3.000000\n",
      "2     1.250000\n",
      "3     0.777778\n",
      "4     0.562500\n",
      "5     0.440000\n",
      "6     0.361111\n",
      "7     0.306122\n",
      "8     0.265625\n",
      "9     0.234568\n",
      "10    0.210000\n",
      "11    0.190083\n",
      "12    0.173611\n",
      "13    0.159763\n",
      "14    0.147959\n",
      "15    0.137778\n",
      "16    0.128906\n",
      "17    0.121107\n",
      "18    0.114198\n",
      "dtype: float64\n"
     ]
    }
   ],
   "source": [
    "#Statistical Formula\n",
    "sq=[x*x for x in range(1,20)]\n",
    "a=pd.Series(sq)\n",
    "print(a.pct_change())"
   ]
  },
  {
   "cell_type": "code",
   "execution_count": 7,
   "metadata": {},
   "outputs": [
    {
     "name": "stdout",
     "output_type": "stream",
     "text": [
      "82.5\n",
      "0.962690737141\n"
     ]
    }
   ],
   "source": [
    "a=pd.Series(list(range(10)))\n",
    "b=pd.Series(list(x**2 +69 for x in range(10)))\n",
    "#print(a)\n",
    "#print(b)\n",
    "print(a.cov(b))\n",
    "print(a.corr(b))"
   ]
  },
  {
   "cell_type": "code",
   "execution_count": 8,
   "metadata": {},
   "outputs": [
    {
     "name": "stdout",
     "output_type": "stream",
     "text": [
      "a    False\n",
      "b     True\n",
      "c    False\n",
      "d     True\n",
      "e    False\n",
      "f    False\n",
      "g     True\n",
      "h    False\n",
      "Name: one, dtype: bool\n",
      "\n",
      " After dropping we get \n",
      "         one       two     three\n",
      "a  0.976258  0.229538 -0.909193\n",
      "c -1.585596 -2.122361  0.589579\n",
      "e -0.388730  0.136557 -0.700580\n",
      "f  0.521276 -0.703997  0.209648\n",
      "h  1.077464  1.477306 -0.756187\n",
      "\n",
      "After filling we get\n",
      " a    0.976258\n",
      "b         NaN\n",
      "c   -1.585596\n",
      "d         NaN\n",
      "e   -0.388730\n",
      "f    0.521276\n",
      "g         NaN\n",
      "h    1.077464\n",
      "Name: one, dtype: float64\n"
     ]
    }
   ],
   "source": [
    "df=pd.DataFrame(np.random.randn(5,3),index=['a', 'c', 'e', 'f','h'],columns=['one', 'two', 'three'])\n",
    "df = df.reindex(['a', 'b', 'c', 'd', 'e', 'f', 'g', 'h'])\n",
    "print (df['one'].isnull())\n",
    "df.fillna(0)\n",
    "print(\"\\n After dropping we get \\n\",df.dropna())\n",
    "print(\"\\nAfter filling we get\\n\", df[\"one\"])"
   ]
  },
  {
   "cell_type": "code",
   "execution_count": 9,
   "metadata": {},
   "outputs": [
    {
     "name": "stdout",
     "output_type": "stream",
     "text": [
      "   one  two\n",
      "0   10   10\n",
      "1   20    0\n",
      "2   30   30\n",
      "3   40   40\n",
      "4   50   50\n",
      "5   60   60\n"
     ]
    }
   ],
   "source": [
    "#Replacing Missing with Generic Values\n",
    "df = pd.DataFrame({'one':[10,20,30,40,50,2000],\n",
    "'two':[1000,0,30,40,50,60]})\n",
    "print (df.replace({1000:10,2000:60}))"
   ]
  },
  {
   "cell_type": "code",
   "execution_count": 10,
   "metadata": {},
   "outputs": [
    {
     "name": "stdout",
     "output_type": "stream",
     "text": [
      "    Points  Rank    Team  Year\n",
      "0      876     1  Riders  2014\n",
      "1      789     2  Riders  2015\n",
      "2      863     2  Devils  2014\n",
      "3      673     3  Devils  2015\n",
      "4      741     3   Kings  2014\n",
      "5      812     4   kings  2015\n",
      "6      756     1   Kings  2016\n",
      "7      788     1   Kings  2017\n",
      "8      694     2  Riders  2016\n",
      "9      701     4  Royals  2014\n",
      "10     804     1  Royals  2015\n",
      "11     690     2  Riders  2017\n"
     ]
    }
   ],
   "source": [
    "#Practicing Groupby commands\n",
    "#import the pandas library\n",
    "import pandas as pd\n",
    "\n",
    "ipl_data = {'Team': ['Riders', 'Riders', 'Devils', 'Devils', 'Kings',\n",
    "         'kings', 'Kings', 'Kings', 'Riders', 'Royals', 'Royals', 'Riders'],\n",
    "         'Rank': [1, 2, 2, 3, 3,4 ,1 ,1,2 , 4,1,2],\n",
    "         'Year': [2014,2015,2014,2015,2014,2015,2016,2017,2016,2014,2015,2017],\n",
    "         'Points':[876,789,863,673,741,812,756,788,694,701,804,690]}\n",
    "df = pd.DataFrame(ipl_data)\n",
    "\n",
    "print (df)"
   ]
  },
  {
   "cell_type": "code",
   "execution_count": 11,
   "metadata": {},
   "outputs": [
    {
     "data": {
      "text/plain": [
       "{'Devils': Int64Index([2, 3], dtype='int64'),\n",
       " 'Kings': Int64Index([4, 6, 7], dtype='int64'),\n",
       " 'Riders': Int64Index([0, 1, 8, 11], dtype='int64'),\n",
       " 'Royals': Int64Index([9, 10], dtype='int64'),\n",
       " 'kings': Int64Index([5], dtype='int64')}"
      ]
     },
     "execution_count": 11,
     "metadata": {},
     "output_type": "execute_result"
    }
   ],
   "source": [
    "df.groupby(\"Team\").groups"
   ]
  },
  {
   "cell_type": "code",
   "execution_count": 12,
   "metadata": {},
   "outputs": [
    {
     "data": {
      "text/plain": [
       "{('Devils', 2014): Int64Index([2], dtype='int64'),\n",
       " ('Devils', 2015): Int64Index([3], dtype='int64'),\n",
       " ('Kings', 2014): Int64Index([4], dtype='int64'),\n",
       " ('Kings', 2016): Int64Index([6], dtype='int64'),\n",
       " ('Kings', 2017): Int64Index([7], dtype='int64'),\n",
       " ('Riders', 2014): Int64Index([0], dtype='int64'),\n",
       " ('Riders', 2015): Int64Index([1], dtype='int64'),\n",
       " ('Riders', 2016): Int64Index([8], dtype='int64'),\n",
       " ('Riders', 2017): Int64Index([11], dtype='int64'),\n",
       " ('Royals', 2014): Int64Index([9], dtype='int64'),\n",
       " ('Royals', 2015): Int64Index([10], dtype='int64'),\n",
       " ('kings', 2015): Int64Index([5], dtype='int64')}"
      ]
     },
     "execution_count": 12,
     "metadata": {},
     "output_type": "execute_result"
    }
   ],
   "source": [
    "df.groupby([\"Team\",\"Year\"]).groups"
   ]
  },
  {
   "cell_type": "code",
   "execution_count": 13,
   "metadata": {},
   "outputs": [],
   "source": [
    "grp=df.groupby(\"Year\").groups"
   ]
  }
 ],
 "metadata": {
  "kernelspec": {
   "display_name": "Python 3",
   "language": "python",
   "name": "python3"
  },
  "language_info": {
   "codemirror_mode": {
    "name": "ipython",
    "version": 3
   },
   "file_extension": ".py",
   "mimetype": "text/x-python",
   "name": "python",
   "nbconvert_exporter": "python",
   "pygments_lexer": "ipython3",
   "version": "3.6.1"
  }
 },
 "nbformat": 4,
 "nbformat_minor": 2
}
