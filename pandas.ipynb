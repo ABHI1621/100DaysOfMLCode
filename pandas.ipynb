{
 "cells": [
  {
   "cell_type": "markdown",
   "metadata": {},
   "source": [
    "### Panads:\n",
    "A open source library for data wrangling.\n",
    "Few important feature\n",
    "1. Highly efficient implementation using cython\n",
    "1. An efficent data frame object with integrated indexing\n",
    "2. Tools for importing data\n",
    "3. Tools for dealing with missing values\n",
    "4. Adding and removing Columns\n",
    "5. Intelligent label-based slicing, fancy indexing, and subsetting of large data sets\n",
    "6. Efficient merge and join\n",
    "7. Aggregating or transforming data with a powerful group by engine allowing split-apply-combine operations on data sets;"
   ]
  },
  {
   "cell_type": "code",
   "execution_count": 10,
   "metadata": {},
   "outputs": [
    {
     "data": {
      "text/plain": [
       "'0.20.1'"
      ]
     },
     "execution_count": 10,
     "metadata": {},
     "output_type": "execute_result"
    }
   ],
   "source": [
    "#importing Pandas\n",
    "import pandas as pd\n",
    "import numpy as np\n",
    "pd.__version__"
   ]
  },
  {
   "cell_type": "code",
   "execution_count": 12,
   "metadata": {},
   "outputs": [
    {
     "name": "stdout",
     "output_type": "stream",
     "text": [
      "     0     1     2     3\n",
      "0  1.0   1.5   NaN  78.0\n",
      "1  1.0  85.0  88.0  55.0\n"
     ]
    }
   ],
   "source": [
    "#Basic Series and DataFrame object\n",
    "a=pd.Series([1,1.5,np.nan,78])\n",
    "b=pd.Series([1,85,88,55])\n",
    "c=pd.DataFrame([a,b])\n",
    "print(c)"
   ]
  },
  {
   "cell_type": "code",
   "execution_count": 13,
   "metadata": {},
   "outputs": [
    {
     "name": "stdout",
     "output_type": "stream",
     "text": [
      "                   A         B         C         D\n",
      "2013-01-01  1.571789 -1.137488 -0.644845  1.500305\n",
      "2013-01-02  0.628011 -1.890479  1.768152  0.131860\n",
      "2013-01-03  0.023819  0.597618  1.201802 -0.202801\n",
      "2013-01-04 -0.276918  0.569962 -2.801256 -0.820433\n",
      "2013-01-05  0.314323  0.112508  1.089259 -1.310252\n",
      "2013-01-06 -1.308176 -0.089296 -2.105134  1.790537\n"
     ]
    }
   ],
   "source": [
    "#Special way to create Series and DataFrame\n",
    "dates = pd.date_range('20130101', periods=6)\n",
    "df = pd.DataFrame(np.random.randn(6,4), index=dates, columns=list('ABCD'))\n",
    "print(df)"
   ]
  },
  {
   "cell_type": "code",
   "execution_count": 19,
   "metadata": {},
   "outputs": [
    {
     "name": "stdout",
     "output_type": "stream",
     "text": [
      "The head of data is \n",
      "                    A         B         C         D\n",
      "2013-01-01  1.571789 -1.137488 -0.644845  1.500305\n",
      "2013-01-02  0.628011 -1.890479  1.768152  0.131860\n",
      "\n",
      "The tail of data is \n",
      "                    A         B         C         D\n",
      "2013-01-02  0.628011 -1.890479  1.768152  0.131860\n",
      "2013-01-03  0.023819  0.597618  1.201802 -0.202801\n",
      "2013-01-04 -0.276918  0.569962 -2.801256 -0.820433\n",
      "2013-01-05  0.314323  0.112508  1.089259 -1.310252\n",
      "2013-01-06 -1.308176 -0.089296 -2.105134  1.790537\n",
      "              A         B         C         D\n",
      "count  6.000000  6.000000  6.000000  6.000000\n",
      "mean   0.158808 -0.306196 -0.248670  0.181536\n",
      "std    0.959268  1.000789  1.901610  1.241579\n",
      "min   -1.308176 -1.890479 -2.801256 -1.310252\n",
      "25%   -0.201734 -0.875440 -1.740062 -0.666025\n",
      "50%    0.169071  0.011606  0.222207 -0.035471\n",
      "75%    0.549589  0.455599  1.173666  1.158193\n",
      "max    1.571789  0.597618  1.768152  1.790537\n"
     ]
    }
   ],
   "source": [
    "#Viewing the data\n",
    "print(\"The head of data is \\n\",df.head(2))\n",
    "print(\"\\nThe tail of data is \\n\",df.tail())\n",
    "print(df.describe())"
   ]
  },
  {
   "cell_type": "code",
   "execution_count": 20,
   "metadata": {},
   "outputs": [
    {
     "data": {
      "text/html": [
       "<div>\n",
       "<style>\n",
       "    .dataframe thead tr:only-child th {\n",
       "        text-align: right;\n",
       "    }\n",
       "\n",
       "    .dataframe thead th {\n",
       "        text-align: left;\n",
       "    }\n",
       "\n",
       "    .dataframe tbody tr th {\n",
       "        vertical-align: top;\n",
       "    }\n",
       "</style>\n",
       "<table border=\"1\" class=\"dataframe\">\n",
       "  <thead>\n",
       "    <tr style=\"text-align: right;\">\n",
       "      <th></th>\n",
       "      <th>2013-01-01 00:00:00</th>\n",
       "      <th>2013-01-02 00:00:00</th>\n",
       "      <th>2013-01-03 00:00:00</th>\n",
       "      <th>2013-01-04 00:00:00</th>\n",
       "      <th>2013-01-05 00:00:00</th>\n",
       "      <th>2013-01-06 00:00:00</th>\n",
       "    </tr>\n",
       "  </thead>\n",
       "  <tbody>\n",
       "    <tr>\n",
       "      <th>A</th>\n",
       "      <td>1.571789</td>\n",
       "      <td>0.628011</td>\n",
       "      <td>0.023819</td>\n",
       "      <td>-0.276918</td>\n",
       "      <td>0.314323</td>\n",
       "      <td>-1.308176</td>\n",
       "    </tr>\n",
       "    <tr>\n",
       "      <th>B</th>\n",
       "      <td>-1.137488</td>\n",
       "      <td>-1.890479</td>\n",
       "      <td>0.597618</td>\n",
       "      <td>0.569962</td>\n",
       "      <td>0.112508</td>\n",
       "      <td>-0.089296</td>\n",
       "    </tr>\n",
       "    <tr>\n",
       "      <th>C</th>\n",
       "      <td>-0.644845</td>\n",
       "      <td>1.768152</td>\n",
       "      <td>1.201802</td>\n",
       "      <td>-2.801256</td>\n",
       "      <td>1.089259</td>\n",
       "      <td>-2.105134</td>\n",
       "    </tr>\n",
       "    <tr>\n",
       "      <th>D</th>\n",
       "      <td>1.500305</td>\n",
       "      <td>0.131860</td>\n",
       "      <td>-0.202801</td>\n",
       "      <td>-0.820433</td>\n",
       "      <td>-1.310252</td>\n",
       "      <td>1.790537</td>\n",
       "    </tr>\n",
       "  </tbody>\n",
       "</table>\n",
       "</div>"
      ],
      "text/plain": [
       "   2013-01-01  2013-01-02  2013-01-03  2013-01-04  2013-01-05  2013-01-06\n",
       "A    1.571789    0.628011    0.023819   -0.276918    0.314323   -1.308176\n",
       "B   -1.137488   -1.890479    0.597618    0.569962    0.112508   -0.089296\n",
       "C   -0.644845    1.768152    1.201802   -2.801256    1.089259   -2.105134\n",
       "D    1.500305    0.131860   -0.202801   -0.820433   -1.310252    1.790537"
      ]
     },
     "execution_count": 20,
     "metadata": {},
     "output_type": "execute_result"
    }
   ],
   "source": [
    "#Taking transpose\n",
    "df.T"
   ]
  },
  {
   "cell_type": "code",
   "execution_count": 21,
   "metadata": {},
   "outputs": [
    {
     "name": "stdout",
     "output_type": "stream",
     "text": [
      "The data sorted by column A\n",
      "                    A         B         C         D\n",
      "2013-01-02  0.628011 -1.890479  1.768152  0.131860\n",
      "2013-01-01  1.571789 -1.137488 -0.644845  1.500305\n",
      "2013-01-06 -1.308176 -0.089296 -2.105134  1.790537\n",
      "2013-01-05  0.314323  0.112508  1.089259 -1.310252\n",
      "2013-01-04 -0.276918  0.569962 -2.801256 -0.820433\n",
      "2013-01-03  0.023819  0.597618  1.201802 -0.202801\n"
     ]
    }
   ],
   "source": [
    "#Sorting the data\n",
    "print(\"The data sorted by column A\\n\",df.sort_values(by=\"B\"))"
   ]
  },
  {
   "cell_type": "code",
   "execution_count": 29,
   "metadata": {},
   "outputs": [
    {
     "name": "stdout",
     "output_type": "stream",
     "text": [
      "The Colums A is \n",
      " 2013-01-01    1.571789\n",
      "2013-01-02    0.628011\n",
      "2013-01-03    0.023819\n",
      "2013-01-04   -0.276918\n",
      "2013-01-05    0.314323\n",
      "2013-01-06   -1.308176\n",
      "Freq: D, Name: A, dtype: float64\n",
      "\n",
      "The first and Seocnd rows are\n",
      "                    A         B         C         D\n",
      "2013-01-01  1.571789 -1.137488 -0.644845  1.500305\n",
      "2013-01-02  0.628011 -1.890479  1.768152  0.131860\n",
      "\n",
      "The first and Seocnd rows are\n",
      "                    A         B         C         D\n",
      "2013-01-01  1.571789 -1.137488 -0.644845  1.500305\n",
      "2013-01-02  0.628011 -1.890479  1.768152  0.131860\n",
      "2013-01-03  0.023819  0.597618  1.201802 -0.202801\n"
     ]
    }
   ],
   "source": [
    "#Slecting \n",
    "print(\"The Colums A is \\n\",df[\"A\"])\n",
    "print(\"\\nThe first and Seocnd rowsm according to roq number are\\n\",df[0:2])\n",
    "print(\"\\nThe first and Seocnd rows using indexesare \\n\",df['2013-01-01': '2013-01-03'])"
   ]
  },
  {
   "cell_type": "code",
   "execution_count": 33,
   "metadata": {},
   "outputs": [
    {
     "data": {
      "text/plain": [
       "<pandas.core.indexing._LocIndexer at 0x1b4e9cf51d0>"
      ]
     },
     "execution_count": 33,
     "metadata": {},
     "output_type": "execute_result"
    }
   ],
   "source": [
    "df.loc('2013-01-01')"
   ]
  },
  {
   "cell_type": "code",
   "execution_count": null,
   "metadata": {
    "collapsed": true
   },
   "outputs": [],
   "source": [
    "pd.read_csv"
   ]
  }
 ],
 "metadata": {
  "kernelspec": {
   "display_name": "Python 3",
   "language": "python",
   "name": "python3"
  },
  "language_info": {
   "codemirror_mode": {
    "name": "ipython",
    "version": 3
   },
   "file_extension": ".py",
   "mimetype": "text/x-python",
   "name": "python",
   "nbconvert_exporter": "python",
   "pygments_lexer": "ipython3",
   "version": "3.6.1"
  }
 },
 "nbformat": 4,
 "nbformat_minor": 2
}
